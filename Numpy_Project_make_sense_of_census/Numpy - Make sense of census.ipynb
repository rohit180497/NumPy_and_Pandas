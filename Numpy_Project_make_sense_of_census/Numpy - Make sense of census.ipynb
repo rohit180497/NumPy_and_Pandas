{
 "cells": [
  {
   "cell_type": "code",
   "execution_count": 1,
   "metadata": {},
   "outputs": [],
   "source": [
    "# Importing header files\n",
    "import numpy as np\n",
    "import warnings\n",
    "\n",
    "warnings.filterwarnings('ignore')\n"
   ]
  },
  {
   "cell_type": "code",
   "execution_count": 2,
   "metadata": {},
   "outputs": [],
   "source": [
    "#New record\n",
    "new_record=[[50,  9,  4,  1,  0,  0, 40, 0 ]]\n",
    "path = \"/Users/rahulkosamkar/Documents/Data_Science/Projects/Numpy Project (make sense of census)/file.csv\""
   ]
  },
  {
   "cell_type": "code",
   "execution_count": 3,
   "metadata": {},
   "outputs": [
    {
     "name": "stdout",
     "output_type": "stream",
     "text": [
      "\n",
      "Data: \n",
      "\n",
      " [[39. 13.  4. ...  0. 40.  0.]\n",
      " [50. 13.  4. ...  0. 13.  0.]\n",
      " [38.  9.  4. ...  0. 40.  0.]\n",
      " ...\n",
      " [48. 13.  4. ...  0. 58.  1.]\n",
      " [40. 10.  4. ...  0. 40.  0.]\n",
      " [39. 13.  4. ...  0. 50.  1.]]\n",
      "(1000, 8)\n"
     ]
    }
   ],
   "source": [
    "#Reading file\n",
    "data = np.genfromtxt(path, delimiter=\",\", skip_header=1)\n",
    "print(\"\\nData: \\n\\n\", data)\n",
    "print(data.shape)"
   ]
  },
  {
   "cell_type": "code",
   "execution_count": 4,
   "metadata": {},
   "outputs": [
    {
     "name": "stdout",
     "output_type": "stream",
     "text": [
      "[[39. 13.  4. ...  0. 40.  0.]\n",
      " [50. 13.  4. ...  0. 13.  0.]\n",
      " [38.  9.  4. ...  0. 40.  0.]\n",
      " ...\n",
      " [40. 10.  4. ...  0. 40.  0.]\n",
      " [39. 13.  4. ...  0. 50.  1.]\n",
      " [50.  9.  4. ...  0. 40.  0.]]\n",
      "(1001, 8)\n",
      "90.0\n",
      "17.0\n",
      "38.06293706293706\n",
      "13.341478176165857\n"
     ]
    }
   ],
   "source": [
    "#Code starts here\n",
    "census = np.concatenate((data,new_record),axis=0)\n",
    "print(census)\n",
    "print(census.shape)\n",
    "age = census [:,0]\n",
    "max_age = age.max()\n",
    "print(max_age)\n",
    "min_age = age.min()\n",
    "print(min_age)\n",
    "age_mean = age.mean()\n",
    "print(age_mean)\n",
    "age_std = age.std()\n",
    "print(age_std)"
   ]
  },
  {
   "cell_type": "code",
   "execution_count": 5,
   "metadata": {},
   "outputs": [
    {
     "name": "stdout",
     "output_type": "stream",
     "text": [
      "[10, 27, 110, 6, 848]\n",
      "3\n"
     ]
    }
   ],
   "source": [
    "race_0 = census[census[:,2]==0]\n",
    "race_1 = census[census[:,2]==1]\n",
    "race_2 = census[census[:,2]==2]\n",
    "race_3 = census[census[:,2]==3]\n",
    "race_4 = census[census[:,2]==4]\n",
    "len_0 = len(race_0)\n",
    "len_1 = len(race_1)\n",
    "len_2 = len(race_2)\n",
    "len_3 = len(race_3)\n",
    "len_4 = len(race_4)\n",
    "length = [len_0,len_1,len_2,len_3,len_4]\n",
    "print(length)\n",
    "minority_race = length.index(min(length))\n",
    "print(minority_race)"
   ]
  },
  {
   "cell_type": "code",
   "execution_count": 6,
   "metadata": {},
   "outputs": [
    {
     "name": "stdout",
     "output_type": "stream",
     "text": [
      "1917.0\n",
      "31.42622950819672\n"
     ]
    }
   ],
   "source": [
    "senior_citizens = census[census[:,0]>60]\n",
    "working_hours_sum = senior_citizens.sum(axis=0)[6]\n",
    "print(working_hours_sum)\n",
    "senior_citizens_len=len(senior_citizens)\n",
    "avg_working_hours=working_hours_sum/senior_citizens_len\n",
    "print((avg_working_hours))"
   ]
  },
  {
   "cell_type": "code",
   "execution_count": 7,
   "metadata": {},
   "outputs": [
    {
     "name": "stdout",
     "output_type": "stream",
     "text": [
      "0.42813455657492355\n",
      "0.13649851632047477\n"
     ]
    }
   ],
   "source": [
    "high=census[census[:,1]>10]\n",
    "avg_pay_high=high[:,7].mean()\n",
    "print(avg_pay_high)\n",
    "low=census[census[:,1]<=10]\n",
    "avg_pay_low=low[:,7].mean()\n",
    "print(avg_pay_low)\n"
   ]
  },
  {
   "cell_type": "code",
   "execution_count": null,
   "metadata": {},
   "outputs": [],
   "source": []
  },
  {
   "cell_type": "code",
   "execution_count": null,
   "metadata": {},
   "outputs": [],
   "source": []
  },
  {
   "cell_type": "code",
   "execution_count": null,
   "metadata": {},
   "outputs": [],
   "source": []
  },
  {
   "cell_type": "code",
   "execution_count": null,
   "metadata": {},
   "outputs": [],
   "source": []
  },
  {
   "cell_type": "code",
   "execution_count": null,
   "metadata": {},
   "outputs": [],
   "source": []
  }
 ],
 "metadata": {
  "kernelspec": {
   "display_name": "Python 3",
   "language": "python",
   "name": "python3"
  },
  "language_info": {
   "codemirror_mode": {
    "name": "ipython",
    "version": 3
   },
   "file_extension": ".py",
   "mimetype": "text/x-python",
   "name": "python",
   "nbconvert_exporter": "python",
   "pygments_lexer": "ipython3",
   "version": "3.8.5"
  }
 },
 "nbformat": 4,
 "nbformat_minor": 4
}
